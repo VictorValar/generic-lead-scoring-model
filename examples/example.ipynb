{
 "cells": [
  {
   "cell_type": "markdown",
   "metadata": {},
   "source": [
    "Importing the NonPredictive class from the nonpredictive module:"
   ]
  },
  {
   "cell_type": "code",
   "execution_count": 2,
   "metadata": {},
   "outputs": [],
   "source": [
    "import sys\n",
    "sys.path.append('..')\n",
    "from glsm.non_predictive import NonPredictive\n",
    "from glsm.features import Feature"
   ]
  },
  {
   "cell_type": "markdown",
   "metadata": {},
   "source": [
    "Instanciate the model and add the features:"
   ]
  },
  {
   "cell_type": "code",
   "execution_count": 3,
   "metadata": {},
   "outputs": [],
   "source": [
    "model = NonPredictive()\n",
    "\n",
    "feature_a = Feature(\n",
    "    name=\"Monthly Users\",\n",
    "    weight=0.5,\n",
    "    points_map=[\n",
    "        (\"Up to 50K\",00),\n",
    "        (\"50K - 100K\",50),\n",
    "        (\"100K - 200K\",70),\n",
    "        (\"More than 200K\",100),\n",
    "    ]\n",
    ")\n",
    "model.add_features([feature_a])\n",
    "feature_b = Feature(\n",
    "    name=\"Industry\",\n",
    "    weight=0.25,\n",
    "    points_map=[\n",
    "        (\"Technology\",70),\n",
    "        (\"Real State\",20),\n",
    "        (\"Retail\",50),\n",
    "        (\"Education\",50),\n",
    "        (\"Health\",100),\n",
    "    ]\n",
    ")\n",
    "model.add_features([feature_b])\n",
    "feature_c = Feature(\n",
    "    name=\"Mkt Investment\",\n",
    "    weight=1,\n",
    "    points_map=[\n",
    "        (\"Up to $50K\",0),\n",
    "        (\"50k - $100K\",30),\n",
    "        (\"100k - $200K\",50),\n",
    "        (\"$200K - $300K\",70),\n",
    "        (\"$300K - $400K\",90),\n",
    "        (\"More than $400K\",100),\n",
    "    ]\n",
    ")\n",
    "model.add_features([feature_c])"
   ]
  },
  {
   "cell_type": "markdown",
   "metadata": {},
   "source": [
    "Read leads from a csv file and add lambda values to a new csv file:"
   ]
  },
  {
   "cell_type": "code",
   "execution_count": 7,
   "metadata": {},
   "outputs": [
    {
     "name": "stdout",
     "output_type": "stream",
     "text": [
      "['50K - 100K', 'Technology', '$300K - $400K', 81.43]\n",
      "['50K - 100K', 'Retail', '100k - $200K', 50.0]\n",
      "['Up to 50K', 'Real State', '50k - $100K', 23.81]\n"
     ]
    }
   ],
   "source": [
    "import csv # or you can just use pandas instead\n",
    "\n",
    "with open('leads.csv', 'r') as file:\n",
    "    if file.read(3) == b'\\xef\\xbb\\xbf':\n",
    "        file.seek(3)\n",
    "    csv_reader = csv.reader(file)\n",
    "    headers = next(csv_reader)\n",
    "\n",
    "    # New csv file adding lambda values\n",
    "    with open('leads_with_lambda.csv', 'w', newline='') as new_file:\n",
    "        csv_writer = csv.writer(new_file)\n",
    "        csv_writer.writerow(headers + ['lambda'])\n",
    "\n",
    "        for row in csv_reader:\n",
    "            lead = dict(zip(headers, row))\n",
    "            lambda_value = model.compute_lambda(lead)\n",
    "            new_row = row + [lambda_value]\n",
    "            print(new_row)\n",
    "            csv_writer.writerow(new_row)\n"
   ]
  },
  {
   "cell_type": "markdown",
   "metadata": {},
   "source": [
    "Compute lambda values for a single lead:"
   ]
  },
  {
   "cell_type": "code",
   "execution_count": 5,
   "metadata": {},
   "outputs": [
    {
     "name": "stdout",
     "output_type": "stream",
     "text": [
      "23.81\n"
     ]
    }
   ],
   "source": [
    "lambda_value = model.compute_lambda(lead)\n",
    "print(lambda_value)"
   ]
  }
 ],
 "metadata": {
  "kernelspec": {
   "display_name": "Python 3.10.6 64-bit",
   "language": "python",
   "name": "python3"
  },
  "language_info": {
   "codemirror_mode": {
    "name": "ipython",
    "version": 3
   },
   "file_extension": ".py",
   "mimetype": "text/x-python",
   "name": "python",
   "nbconvert_exporter": "python",
   "pygments_lexer": "ipython3",
   "version": "3.10.6"
  },
  "orig_nbformat": 4,
  "vscode": {
   "interpreter": {
    "hash": "8a4170cf6dcd9674f0f7d33221fcf19531c27084af24daef8dd9554aedf69b79"
   }
  }
 },
 "nbformat": 4,
 "nbformat_minor": 2
}
