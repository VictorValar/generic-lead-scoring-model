{
 "cells": [
  {
   "cell_type": "markdown",
   "metadata": {},
   "source": [
    "# Usage Example\n",
    "\n"
   ]
  },
  {
   "cell_type": "markdown",
   "metadata": {
    "collapsed": false
   },
   "source": [
    "## Importing the NonPredictive class from the non-predictive module:"
   ]
  },
  {
   "cell_type": "code",
   "execution_count": 25,
   "outputs": [],
   "source": [
    "import sys\n",
    "import pandas as pd\n",
    "sys.path.append('..')\n",
    "from glsm.non_predictive.model import NonPredictive\n",
    "from glsm.non_predictive.features import Feature"
   ],
   "metadata": {
    "collapsed": false,
    "ExecuteTime": {
     "start_time": "2023-05-19T20:17:38.664551Z",
     "end_time": "2023-05-19T20:17:38.676575Z"
    }
   }
  },
  {
   "cell_type": "markdown",
   "source": [
    "## Instance the model and add the features:"
   ],
   "metadata": {
    "collapsed": false
   }
  },
  {
   "cell_type": "code",
   "execution_count": 26,
   "metadata": {
    "ExecuteTime": {
     "start_time": "2023-05-19T20:17:39.828612Z",
     "end_time": "2023-05-19T20:17:39.846612Z"
    }
   },
   "outputs": [],
   "source": [
    "model = NonPredictive()\n",
    "\n",
    "feature_a = Feature(\n",
    "    name=\"Monthly Users\",\n",
    "    weight=0.5,\n",
    "    options_df=pd.DataFrame([\n",
    "            {\"label\": \"Up to 50K\", \"is_ICP\": False, \"points\": 0},\n",
    "            {\"label\": \"50K - 100K\", \"is_ICP\": True, \"points\": 0},\n",
    "            {\"label\": \"100K - 200K\", \"is_ICP\": False, \"points\": 0},\n",
    "            {\"label\": \"More than 200K\", \"is_ICP\": False, \"points\": 0},\n",
    "        ])\n",
    ")\n",
    "feature_b = Feature(\n",
    "    name=\"Industry\",\n",
    "    weight=0.25,\n",
    "    options_df=pd.DataFrame({\n",
    "        'label': ['Other', 'Agriculture', 'Transportation', 'Healthcare', 'Manufacturing',\n",
    "                  'Education', 'Finance', 'Technology', 'Retail', 'Telecom'],\n",
    "        'is_ICP': [False, False, False, False, False, True, True, True, False, False],\n",
    "        'points': [0, 0, 0, 0, 0, 0, 0, 0, 0, 0]\n",
    "    })\n",
    ")\n",
    "\n",
    "feature_c = Feature(\n",
    "    name=\"Mkt Investment\",\n",
    "    weight=1,\n",
    "    options_df=pd.DataFrame({\n",
    "        'label': ['Up to $50K', '50k - $100K', '100k - $200K', '$200K - $300K', '$300K - $400K', 'More than $400K'],\n",
    "        'is_ICP': [False, True, False, False, False, False],\n",
    "        'points': [0, 0, 0, 0, 0, 0]\n",
    "    })\n",
    ")\n",
    "\n",
    "model.add_features([feature_a, feature_b, feature_c])"
   ]
  },
  {
   "cell_type": "markdown",
   "source": [
    "## Points auto assignment\n",
    "You may set preview=True to check the proposed changes"
   ],
   "metadata": {
    "collapsed": false
   }
  },
  {
   "cell_type": "code",
   "execution_count": 27,
   "outputs": [
    {
     "data": {
      "text/plain": "              label  is_ICP  points    Feature Name\n0         Up to 50K   False     0.0   Monthly Users\n1        50K - 100K    True    50.0   Monthly Users\n2       100K - 200K   False    75.0   Monthly Users\n3    More than 200K   False   100.0   Monthly Users\n4             Other   False     0.0        Industry\n5       Agriculture   False    10.0        Industry\n6    Transportation   False    20.0        Industry\n7        Healthcare   False    30.0        Industry\n8     Manufacturing   False    40.0        Industry\n9         Education    True    50.0        Industry\n10          Finance    True    50.0        Industry\n11       Technology    True    50.0        Industry\n12           Retail   False    75.0        Industry\n13          Telecom   False   100.0        Industry\n14       Up to $50K   False     0.0  Mkt Investment\n15      50k - $100K    True    50.0  Mkt Investment\n16     100k - $200K   False    62.5  Mkt Investment\n17    $200K - $300K   False    75.0  Mkt Investment\n18    $300K - $400K   False    87.5  Mkt Investment\n19  More than $400K   False   100.0  Mkt Investment",
      "text/html": "<div>\n<style scoped>\n    .dataframe tbody tr th:only-of-type {\n        vertical-align: middle;\n    }\n\n    .dataframe tbody tr th {\n        vertical-align: top;\n    }\n\n    .dataframe thead th {\n        text-align: right;\n    }\n</style>\n<table border=\"1\" class=\"dataframe\">\n  <thead>\n    <tr style=\"text-align: right;\">\n      <th></th>\n      <th>label</th>\n      <th>is_ICP</th>\n      <th>points</th>\n      <th>Feature Name</th>\n    </tr>\n  </thead>\n  <tbody>\n    <tr>\n      <th>0</th>\n      <td>Up to 50K</td>\n      <td>False</td>\n      <td>0.0</td>\n      <td>Monthly Users</td>\n    </tr>\n    <tr>\n      <th>1</th>\n      <td>50K - 100K</td>\n      <td>True</td>\n      <td>50.0</td>\n      <td>Monthly Users</td>\n    </tr>\n    <tr>\n      <th>2</th>\n      <td>100K - 200K</td>\n      <td>False</td>\n      <td>75.0</td>\n      <td>Monthly Users</td>\n    </tr>\n    <tr>\n      <th>3</th>\n      <td>More than 200K</td>\n      <td>False</td>\n      <td>100.0</td>\n      <td>Monthly Users</td>\n    </tr>\n    <tr>\n      <th>4</th>\n      <td>Other</td>\n      <td>False</td>\n      <td>0.0</td>\n      <td>Industry</td>\n    </tr>\n    <tr>\n      <th>5</th>\n      <td>Agriculture</td>\n      <td>False</td>\n      <td>10.0</td>\n      <td>Industry</td>\n    </tr>\n    <tr>\n      <th>6</th>\n      <td>Transportation</td>\n      <td>False</td>\n      <td>20.0</td>\n      <td>Industry</td>\n    </tr>\n    <tr>\n      <th>7</th>\n      <td>Healthcare</td>\n      <td>False</td>\n      <td>30.0</td>\n      <td>Industry</td>\n    </tr>\n    <tr>\n      <th>8</th>\n      <td>Manufacturing</td>\n      <td>False</td>\n      <td>40.0</td>\n      <td>Industry</td>\n    </tr>\n    <tr>\n      <th>9</th>\n      <td>Education</td>\n      <td>True</td>\n      <td>50.0</td>\n      <td>Industry</td>\n    </tr>\n    <tr>\n      <th>10</th>\n      <td>Finance</td>\n      <td>True</td>\n      <td>50.0</td>\n      <td>Industry</td>\n    </tr>\n    <tr>\n      <th>11</th>\n      <td>Technology</td>\n      <td>True</td>\n      <td>50.0</td>\n      <td>Industry</td>\n    </tr>\n    <tr>\n      <th>12</th>\n      <td>Retail</td>\n      <td>False</td>\n      <td>75.0</td>\n      <td>Industry</td>\n    </tr>\n    <tr>\n      <th>13</th>\n      <td>Telecom</td>\n      <td>False</td>\n      <td>100.0</td>\n      <td>Industry</td>\n    </tr>\n    <tr>\n      <th>14</th>\n      <td>Up to $50K</td>\n      <td>False</td>\n      <td>0.0</td>\n      <td>Mkt Investment</td>\n    </tr>\n    <tr>\n      <th>15</th>\n      <td>50k - $100K</td>\n      <td>True</td>\n      <td>50.0</td>\n      <td>Mkt Investment</td>\n    </tr>\n    <tr>\n      <th>16</th>\n      <td>100k - $200K</td>\n      <td>False</td>\n      <td>62.5</td>\n      <td>Mkt Investment</td>\n    </tr>\n    <tr>\n      <th>17</th>\n      <td>$200K - $300K</td>\n      <td>False</td>\n      <td>75.0</td>\n      <td>Mkt Investment</td>\n    </tr>\n    <tr>\n      <th>18</th>\n      <td>$300K - $400K</td>\n      <td>False</td>\n      <td>87.5</td>\n      <td>Mkt Investment</td>\n    </tr>\n    <tr>\n      <th>19</th>\n      <td>More than $400K</td>\n      <td>False</td>\n      <td>100.0</td>\n      <td>Mkt Investment</td>\n    </tr>\n  </tbody>\n</table>\n</div>"
     },
     "execution_count": 27,
     "metadata": {},
     "output_type": "execute_result"
    }
   ],
   "source": [
    "model.auto_assign_points()"
   ],
   "metadata": {
    "collapsed": false,
    "ExecuteTime": {
     "start_time": "2023-05-19T20:17:41.446511Z",
     "end_time": "2023-05-19T20:17:41.474530Z"
    }
   }
  },
  {
   "cell_type": "markdown",
   "metadata": {},
   "source": [
    "## Compute lambda values for a single lead:"
   ]
  },
  {
   "cell_type": "code",
   "execution_count": 28,
   "metadata": {
    "ExecuteTime": {
     "start_time": "2023-05-19T20:17:44.672367Z",
     "end_time": "2023-05-19T20:17:44.727631Z"
    }
   },
   "outputs": [
    {
     "data": {
      "text/plain": "78.57"
     },
     "execution_count": 28,
     "metadata": {},
     "output_type": "execute_result"
    }
   ],
   "source": [
    "lead = { \n",
    "        \"Monthly Users\": \"50K - 100K\",\n",
    "        \"Industry\": \"Technology\",\n",
    "        \"Mkt Investment\": \"$300K - $400K\",\n",
    "    }\n",
    "    \n",
    "lambda_value = model.compute_lambda(lead)\n",
    "lambda_value"
   ]
  },
  {
   "cell_type": "markdown",
   "source": [
    "## Read leads from a csv file and compute the lead score:"
   ],
   "metadata": {
    "collapsed": false
   }
  },
  {
   "cell_type": "code",
   "execution_count": 29,
   "outputs": [
    {
     "data": {
      "text/plain": "  Monthly Users     Industry Mkt Investment  lambda\n0    50K - 100K   Technology  $300K - $400K   78.57\n1    50K - 100K       Retail   100k - $200K   60.71\n2     Up to 50K  Agriculture    50k - $100K   38.57",
      "text/html": "<div>\n<style scoped>\n    .dataframe tbody tr th:only-of-type {\n        vertical-align: middle;\n    }\n\n    .dataframe tbody tr th {\n        vertical-align: top;\n    }\n\n    .dataframe thead th {\n        text-align: right;\n    }\n</style>\n<table border=\"1\" class=\"dataframe\">\n  <thead>\n    <tr style=\"text-align: right;\">\n      <th></th>\n      <th>Monthly Users</th>\n      <th>Industry</th>\n      <th>Mkt Investment</th>\n      <th>lambda</th>\n    </tr>\n  </thead>\n  <tbody>\n    <tr>\n      <th>0</th>\n      <td>50K - 100K</td>\n      <td>Technology</td>\n      <td>$300K - $400K</td>\n      <td>78.57</td>\n    </tr>\n    <tr>\n      <th>1</th>\n      <td>50K - 100K</td>\n      <td>Retail</td>\n      <td>100k - $200K</td>\n      <td>60.71</td>\n    </tr>\n    <tr>\n      <th>2</th>\n      <td>Up to 50K</td>\n      <td>Agriculture</td>\n      <td>50k - $100K</td>\n      <td>38.57</td>\n    </tr>\n  </tbody>\n</table>\n</div>"
     },
     "execution_count": 29,
     "metadata": {},
     "output_type": "execute_result"
    }
   ],
   "source": [
    "import pandas as pd\n",
    "\n",
    "df = pd.read_csv('leads.csv')\n",
    "df['lambda'] = df.apply(\n",
    "    lambda row: model.compute_lambda(row.to_dict()),\n",
    "    axis=1\n",
    ")\n",
    "df"
   ],
   "metadata": {
    "collapsed": false,
    "ExecuteTime": {
     "start_time": "2023-05-19T20:17:46.751258Z",
     "end_time": "2023-05-19T20:17:46.783256Z"
    }
   }
  },
  {
   "cell_type": "markdown",
   "metadata": {
    "collapsed": false
   },
   "source": [
    "## Removing features"
   ]
  },
  {
   "cell_type": "code",
   "execution_count": 30,
   "metadata": {
    "collapsed": false,
    "ExecuteTime": {
     "start_time": "2023-05-19T20:17:50.068532Z",
     "end_time": "2023-05-19T20:17:50.082214Z"
    }
   },
   "outputs": [],
   "source": [
    "model.remove_features(['Mkt Investment'])"
   ]
  },
  {
   "cell_type": "code",
   "execution_count": 31,
   "metadata": {
    "collapsed": false,
    "ExecuteTime": {
     "start_time": "2023-05-19T20:17:50.898857Z",
     "end_time": "2023-05-19T20:17:50.907815Z"
    }
   },
   "outputs": [
    {
     "data": {
      "text/plain": "2"
     },
     "execution_count": 31,
     "metadata": {},
     "output_type": "execute_result"
    }
   ],
   "source": [
    "len(model.features)"
   ]
  },
  {
   "cell_type": "markdown",
   "metadata": {},
   "source": [
    "### Compute new lambda after removing a feature:"
   ]
  },
  {
   "cell_type": "code",
   "execution_count": 33,
   "metadata": {
    "collapsed": false,
    "ExecuteTime": {
     "start_time": "2023-05-19T20:18:03.507427Z",
     "end_time": "2023-05-19T20:18:03.527411Z"
    }
   },
   "outputs": [
    {
     "data": {
      "text/plain": "  Monthly Users     Industry Mkt Investment  lambda  new_lambda  delta_percent\n0    50K - 100K   Technology  $300K - $400K   78.57        50.0     -36.362479\n1    50K - 100K       Retail   100k - $200K   60.71        55.0      -9.405370\n2     Up to 50K  Agriculture    50k - $100K   38.57         2.0     -94.814623",
      "text/html": "<div>\n<style scoped>\n    .dataframe tbody tr th:only-of-type {\n        vertical-align: middle;\n    }\n\n    .dataframe tbody tr th {\n        vertical-align: top;\n    }\n\n    .dataframe thead th {\n        text-align: right;\n    }\n</style>\n<table border=\"1\" class=\"dataframe\">\n  <thead>\n    <tr style=\"text-align: right;\">\n      <th></th>\n      <th>Monthly Users</th>\n      <th>Industry</th>\n      <th>Mkt Investment</th>\n      <th>lambda</th>\n      <th>new_lambda</th>\n      <th>delta_percent</th>\n    </tr>\n  </thead>\n  <tbody>\n    <tr>\n      <th>0</th>\n      <td>50K - 100K</td>\n      <td>Technology</td>\n      <td>$300K - $400K</td>\n      <td>78.57</td>\n      <td>50.0</td>\n      <td>-36.362479</td>\n    </tr>\n    <tr>\n      <th>1</th>\n      <td>50K - 100K</td>\n      <td>Retail</td>\n      <td>100k - $200K</td>\n      <td>60.71</td>\n      <td>55.0</td>\n      <td>-9.405370</td>\n    </tr>\n    <tr>\n      <th>2</th>\n      <td>Up to 50K</td>\n      <td>Agriculture</td>\n      <td>50k - $100K</td>\n      <td>38.57</td>\n      <td>2.0</td>\n      <td>-94.814623</td>\n    </tr>\n  </tbody>\n</table>\n</div>"
     },
     "execution_count": 33,
     "metadata": {},
     "output_type": "execute_result"
    }
   ],
   "source": [
    "# df with both lambdas and delta_percent\n",
    "df['new_lambda'] = df.apply(\n",
    "    lambda row: model.compute_lambda(row.to_dict()),\n",
    "    axis=1\n",
    ")\n",
    "\n",
    "df['delta_percent'] = (df['new_lambda'] / df['lambda'] - 1)*100\n",
    "\n",
    "df.head()\n"
   ]
  },
  {
   "cell_type": "code",
   "execution_count": 34,
   "metadata": {
    "collapsed": false,
    "ExecuteTime": {
     "start_time": "2023-05-19T20:18:10.329379Z",
     "end_time": "2023-05-19T20:18:10.350544Z"
    }
   },
   "outputs": [
    {
     "data": {
      "text/plain": "1.0"
     },
     "execution_count": 34,
     "metadata": {},
     "output_type": "execute_result"
    }
   ],
   "source": [
    "round(sum( # proof of normalized weights sum to 1\n",
    "    [i.normalized_weight**2 for i in model.features]),\n",
    "    model.round_decimals \n",
    ")"
   ]
  },
  {
   "cell_type": "code",
   "execution_count": 24,
   "outputs": [],
   "source": [],
   "metadata": {
    "collapsed": false,
    "ExecuteTime": {
     "start_time": "2023-05-19T20:17:29.611917Z",
     "end_time": "2023-05-19T20:17:29.729916Z"
    }
   }
  }
 ],
 "metadata": {
  "kernelspec": {
   "display_name": "Python 3.10.6 64-bit",
   "language": "python",
   "name": "python3"
  },
  "language_info": {
   "codemirror_mode": {
    "name": "ipython",
    "version": 3
   },
   "file_extension": ".py",
   "mimetype": "text/x-python",
   "name": "python",
   "nbconvert_exporter": "python",
   "pygments_lexer": "ipython3",
   "version": "3.10.6"
  },
  "orig_nbformat": 4,
  "vscode": {
   "interpreter": {
    "hash": "8a4170cf6dcd9674f0f7d33221fcf19531c27084af24daef8dd9554aedf69b79"
   }
  }
 },
 "nbformat": 4,
 "nbformat_minor": 2
}
