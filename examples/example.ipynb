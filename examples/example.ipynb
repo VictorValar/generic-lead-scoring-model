{
 "cells": [
  {
   "cell_type": "markdown",
   "metadata": {},
   "source": [
    "# Usage Example\n",
    "\n"
   ]
  },
  {
   "cell_type": "markdown",
   "metadata": {
    "collapsed": false
   },
   "source": [
    "## Importing the NonPredictive class from the non-predictive module:"
   ]
  },
  {
   "cell_type": "code",
   "execution_count": null,
   "metadata": {
    "pycharm": {
     "is_executing": true
    }
   },
   "outputs": [],
   "source": [
    "import sys\n",
    "sys.path.append('..')\n",
    "from glsm.non_predictive.model import NonPredictive\n",
    "from glsm.non_predictive.features import Feature"
   ]
  },
  {
   "cell_type": "markdown",
   "metadata": {},
   "source": [
    "## Instanciate the model and add the features:"
   ]
  },
  {
   "cell_type": "code",
   "execution_count": 2,
   "metadata": {},
   "outputs": [],
   "source": [
    "model = NonPredictive()\n",
    "\n",
    "feature_a = Feature(\n",
    "    name=\"Monthly Users\",\n",
    "    weight=0.5,\n",
    "    points_map=[\n",
    "        [\"Up to 50K\",0],\n",
    "        [\"50K - 100K\",50],\n",
    "        [\"100K - 200K\",75],\n",
    "        [\"More than 200K\",100],\n",
    "    ]\n",
    ")\n",
    "feature_b = Feature(\n",
    "    name=\"Industry\",\n",
    "    weight=0.25,\n",
    "    points_map=[\n",
    "        [\"Other\",50 - (50/5)*5], # 0\n",
    "        [\"Agriculture\",50 - (50/5)*4],\n",
    "        [\"Transportation\",50 - (50/5)*3],\n",
    "        [\"Healthcare\",50 - (50/5)*2],\n",
    "        [\"Manufacturing\",50 - (50/5)],\n",
    "        [\"Education\",50],\n",
    "        [\"Finance\",50],\n",
    "        [\"Technology\",50],\n",
    "        [\"Retail\",50 + (50/2)],\n",
    "        [\"Telecom\",50 + (50/2)*2], # 100\n",
    "    ]\n",
    ")\n",
    "\n",
    "feature_c = Feature(\n",
    "    name=\"Mkt Investment\",\n",
    "    weight=1,\n",
    "    points_map=[\n",
    "        [\"Up to $50K\",'0'],\n",
    "        [\"50k - $100K\",30],\n",
    "        [\"100k - $200K\",50],\n",
    "        [\"$200K - $300K\",70],\n",
    "        [\"$300K - $400K\",90],\n",
    "        [\"More than $400K\",100],\n",
    "    ]\n",
    ")\n",
    "model.add_features([feature_a, feature_b, feature_c])"
   ]
  },
  {
   "cell_type": "markdown",
   "metadata": {},
   "source": [
    "## Read leads from a csv file and compute the lead score:"
   ]
  },
  {
   "cell_type": "code",
   "execution_count": 3,
   "metadata": {},
   "outputs": [
    {
     "data": {
      "text/html": [
       "<div>\n",
       "<style scoped>\n",
       "    .dataframe tbody tr th:only-of-type {\n",
       "        vertical-align: middle;\n",
       "    }\n",
       "\n",
       "    .dataframe tbody tr th {\n",
       "        vertical-align: top;\n",
       "    }\n",
       "\n",
       "    .dataframe thead th {\n",
       "        text-align: right;\n",
       "    }\n",
       "</style>\n",
       "<table border=\"1\" class=\"dataframe\">\n",
       "  <thead>\n",
       "    <tr style=\"text-align: right;\">\n",
       "      <th></th>\n",
       "      <th>Monthly Users</th>\n",
       "      <th>Industry</th>\n",
       "      <th>Mkt Investment</th>\n",
       "      <th>lambda</th>\n",
       "    </tr>\n",
       "  </thead>\n",
       "  <tbody>\n",
       "    <tr>\n",
       "      <th>0</th>\n",
       "      <td>50K - 100K</td>\n",
       "      <td>Technology</td>\n",
       "      <td>$300K - $400K</td>\n",
       "      <td>80.48</td>\n",
       "    </tr>\n",
       "    <tr>\n",
       "      <th>1</th>\n",
       "      <td>50K - 100K</td>\n",
       "      <td>Retail</td>\n",
       "      <td>100k - $200K</td>\n",
       "      <td>51.19</td>\n",
       "    </tr>\n",
       "    <tr>\n",
       "      <th>2</th>\n",
       "      <td>Up to 50K</td>\n",
       "      <td>Agriculture</td>\n",
       "      <td>50k - $100K</td>\n",
       "      <td>23.33</td>\n",
       "    </tr>\n",
       "  </tbody>\n",
       "</table>\n",
       "</div>"
      ],
      "text/plain": [
       "  Monthly Users     Industry Mkt Investment  lambda\n",
       "0    50K - 100K   Technology  $300K - $400K   80.48\n",
       "1    50K - 100K       Retail   100k - $200K   51.19\n",
       "2     Up to 50K  Agriculture    50k - $100K   23.33"
      ]
     },
     "execution_count": 3,
     "metadata": {},
     "output_type": "execute_result"
    }
   ],
   "source": [
    "# or you can just use pandas instead\n",
    "import pandas as pd\n",
    "\n",
    "df = pd.read_csv('leads.csv')\n",
    "df['lambda'] = df.apply(\n",
    "    lambda row: model.compute_lambda(row.to_dict()),\n",
    "    axis=1\n",
    ")\n",
    "df"
   ]
  },
  {
   "cell_type": "markdown",
   "metadata": {},
   "source": [
    "## Compute lambda values for a single lead:"
   ]
  },
  {
   "cell_type": "code",
   "execution_count": 4,
   "metadata": {},
   "outputs": [
    {
     "data": {
      "text/plain": [
       "80.48"
      ]
     },
     "execution_count": 4,
     "metadata": {},
     "output_type": "execute_result"
    }
   ],
   "source": [
    "lead = { \n",
    "        \"Monthly Users\": \"50K - 100K\",\n",
    "        \"Industry\": \"Technology\",\n",
    "        \"Mkt Investment\": \"$300K - $400K\",\n",
    "    }\n",
    "    \n",
    "lambda_value = model.compute_lambda(lead)\n",
    "lambda_value"
   ]
  },
  {
   "cell_type": "markdown",
   "metadata": {
    "collapsed": false
   },
   "source": [
    "## Removing features"
   ]
  },
  {
   "cell_type": "code",
   "execution_count": 5,
   "metadata": {
    "collapsed": false
   },
   "outputs": [],
   "source": [
    "model.remove_features(['Mkt Investment'])"
   ]
  },
  {
   "cell_type": "code",
   "execution_count": 6,
   "metadata": {
    "collapsed": false
   },
   "outputs": [
    {
     "name": "stdout",
     "output_type": "stream",
     "text": [
      "{'Monthly Users': {'weight': 0.5, 'normalized_weight': 0.89}}\n",
      "{'Monthly Users': {'weight': 0.5, 'normalized_weight': 0.89}, 'Industry': {'weight': 0.25, 'normalized_weight': 0.45}}\n"
     ]
    },
    {
     "data": {
      "text/plain": [
       "{'Monthly Users': {'weight': 0.5, 'normalized_weight': 0.89},\n",
       " 'Industry': {'weight': 0.25, 'normalized_weight': 0.45}}"
      ]
     },
     "execution_count": 6,
     "metadata": {},
     "output_type": "execute_result"
    }
   ],
   "source": [
    "model.describe_features()"
   ]
  },
  {
   "cell_type": "markdown",
   "metadata": {},
   "source": [
    "### Compute new lambda after removing a feature:"
   ]
  },
  {
   "cell_type": "code",
   "execution_count": 7,
   "metadata": {
    "collapsed": false
   },
   "outputs": [
    {
     "data": {
      "text/html": [
       "<div>\n",
       "<style scoped>\n",
       "    .dataframe tbody tr th:only-of-type {\n",
       "        vertical-align: middle;\n",
       "    }\n",
       "\n",
       "    .dataframe tbody tr th {\n",
       "        vertical-align: top;\n",
       "    }\n",
       "\n",
       "    .dataframe thead th {\n",
       "        text-align: right;\n",
       "    }\n",
       "</style>\n",
       "<table border=\"1\" class=\"dataframe\">\n",
       "  <thead>\n",
       "    <tr style=\"text-align: right;\">\n",
       "      <th></th>\n",
       "      <th>Monthly Users</th>\n",
       "      <th>Industry</th>\n",
       "      <th>Mkt Investment</th>\n",
       "      <th>lambda</th>\n",
       "      <th>new_lambda</th>\n",
       "      <th>delta_percent</th>\n",
       "    </tr>\n",
       "  </thead>\n",
       "  <tbody>\n",
       "    <tr>\n",
       "      <th>0</th>\n",
       "      <td>50K - 100K</td>\n",
       "      <td>Technology</td>\n",
       "      <td>$300K - $400K</td>\n",
       "      <td>80.48</td>\n",
       "      <td>50.0</td>\n",
       "      <td>-37.872763</td>\n",
       "    </tr>\n",
       "    <tr>\n",
       "      <th>1</th>\n",
       "      <td>50K - 100K</td>\n",
       "      <td>Retail</td>\n",
       "      <td>100k - $200K</td>\n",
       "      <td>51.19</td>\n",
       "      <td>55.0</td>\n",
       "      <td>7.442860</td>\n",
       "    </tr>\n",
       "    <tr>\n",
       "      <th>2</th>\n",
       "      <td>Up to 50K</td>\n",
       "      <td>Agriculture</td>\n",
       "      <td>50k - $100K</td>\n",
       "      <td>23.33</td>\n",
       "      <td>2.0</td>\n",
       "      <td>-91.427347</td>\n",
       "    </tr>\n",
       "  </tbody>\n",
       "</table>\n",
       "</div>"
      ],
      "text/plain": [
       "  Monthly Users     Industry Mkt Investment  lambda  new_lambda  delta_percent\n",
       "0    50K - 100K   Technology  $300K - $400K   80.48        50.0     -37.872763\n",
       "1    50K - 100K       Retail   100k - $200K   51.19        55.0       7.442860\n",
       "2     Up to 50K  Agriculture    50k - $100K   23.33         2.0     -91.427347"
      ]
     },
     "execution_count": 7,
     "metadata": {},
     "output_type": "execute_result"
    }
   ],
   "source": [
    "# df with both lambdas and delta_percent\n",
    "df['new_lambda'] = df.apply(\n",
    "    lambda row: model.compute_lambda(row.to_dict()),\n",
    "    axis=1\n",
    ")\n",
    "\n",
    "df['delta_percent'] = (df['new_lambda'] / df['lambda'] - 1)*100\n",
    "\n",
    "df\n"
   ]
  },
  {
   "cell_type": "code",
   "execution_count": 8,
   "metadata": {
    "collapsed": false
   },
   "outputs": [
    {
     "data": {
      "text/plain": [
       "1.0"
      ]
     },
     "execution_count": 8,
     "metadata": {},
     "output_type": "execute_result"
    }
   ],
   "source": [
    "round(sum( # proof of normalized weights sum to 1\n",
    "    [i.normalized_weight**2 for i in model.features]),\n",
    "    model.round_decimals \n",
    ") "
   ]
  }
 ],
 "metadata": {
  "kernelspec": {
   "display_name": "Python 3.10.6 64-bit",
   "language": "python",
   "name": "python3"
  },
  "language_info": {
   "codemirror_mode": {
    "name": "ipython",
    "version": 3
   },
   "file_extension": ".py",
   "mimetype": "text/x-python",
   "name": "python",
   "nbconvert_exporter": "python",
   "pygments_lexer": "ipython3",
   "version": "3.10.6"
  },
  "orig_nbformat": 4,
  "vscode": {
   "interpreter": {
    "hash": "8a4170cf6dcd9674f0f7d33221fcf19531c27084af24daef8dd9554aedf69b79"
   }
  }
 },
 "nbformat": 4,
 "nbformat_minor": 2
}
