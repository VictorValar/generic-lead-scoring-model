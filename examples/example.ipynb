{
 "cells": [
  {
   "cell_type": "markdown",
   "metadata": {},
   "source": [
    "# Usage Example"
   ]
  },
  {
   "cell_type": "markdown",
   "metadata": {
    "collapsed": false,
    "ExecuteTime": {
     "start_time": "2023-06-29T23:42:24.522755Z",
     "end_time": "2023-06-29T23:42:24.551757Z"
    }
   },
   "source": [
    "## Importing the NonPredictive class from the non-predictive module:"
   ],
   "outputs": [],
   "execution_count": 18
  },
  {
   "cell_type": "code",
   "execution_count": 1,
   "outputs": [],
   "source": [
    "import sys\n",
    "import pandas as pd\n",
    "sys.path.append('..')\n",
    "from glsm.non_predictive.model import NonPredictive\n",
    "from glsm.non_predictive.features import Feature"
   ],
   "metadata": {
    "collapsed": false,
    "ExecuteTime": {
     "start_time": "2023-06-30T00:08:43.210151Z",
     "end_time": "2023-06-30T00:08:43.598786Z"
    }
   }
  },
  {
   "cell_type": "markdown",
   "source": [
    "## Instance the model and add the features:"
   ],
   "metadata": {
    "collapsed": false,
    "ExecuteTime": {
     "start_time": "2023-06-29T23:42:27.665453Z",
     "end_time": "2023-06-29T23:42:27.696763Z"
    }
   },
   "outputs": [],
   "execution_count": 22
  },
  {
   "cell_type": "code",
   "execution_count": 2,
   "metadata": {
    "ExecuteTime": {
     "start_time": "2023-06-30T00:08:45.327858Z",
     "end_time": "2023-06-30T00:08:45.353901Z"
    }
   },
   "outputs": [],
   "source": [
    "model = NonPredictive()\n",
    "\n",
    "feature_a = Feature(\n",
    "    name=\"Monthly Users\",\n",
    "    weight=0.5,\n",
    "    options_df=pd.DataFrame([\n",
    "            {\"label\": \"Up to 50K\", \"is_ICP\": False, \"points\": 0},\n",
    "            {\"label\": \"50K - 100K\", \"is_ICP\": True},\n",
    "            {\"label\": \"100K - 200K\", \"is_ICP\": False},\n",
    "            {\"label\": \"More than 200K\", \"is_ICP\": False}\n",
    "        ])\n",
    ")\n",
    "feature_b = Feature(\n",
    "    name=\"Industry\",\n",
    "    weight=0.25,\n",
    "    options_df=pd.DataFrame([\n",
    "            {\"label\": \"Other\", \"is_ICP\": False},\n",
    "            {\"label\": \"Agriculture\", \"is_ICP\": False},\n",
    "            {\"label\": \"Transportation\", \"is_ICP\": False},\n",
    "            {\"label\": \"Healthcare\", \"is_ICP\": False},\n",
    "            {\"label\": \"Manufacturing\", \"is_ICP\": False},\n",
    "            {\"label\": \"Education\", \"is_ICP\": True},\n",
    "            {\"label\": \"Finance\", \"is_ICP\": True},\n",
    "            {\"label\": \"Technology\", \"is_ICP\": True},\n",
    "            {\"label\": \"Retail\", \"is_ICP\": False},\n",
    "            {\"label\": \"Telecom\", \"is_ICP\": False},\n",
    "        ])\n",
    ")\n",
    "\n",
    "feature_c = Feature(\n",
    "    name=\"Mkt Investment\",\n",
    "    weight=1,\n",
    "    options_df=pd.DataFrame({\n",
    "        'label': ['Up to $50K', '50k - $100K', '100k - $200K', '$200K - $300K', '$300K - $400K', 'More than $400K'],\n",
    "        'is_ICP': [False, True, False, False, False, False],\n",
    "        'points': [0, 0, 0, 0, 0, 0]\n",
    "    })\n",
    ")\n",
    "\n",
    "model.add_features([feature_a, feature_b, feature_c])"
   ]
  },
  {
   "cell_type": "markdown",
   "source": [
    "## Points auto assignment\n",
    "You may set preview=True to check the proposed changes"
   ],
   "metadata": {
    "collapsed": false,
    "ExecuteTime": {
     "start_time": "2023-06-29T23:42:32.057697Z",
     "end_time": "2023-06-29T23:42:32.094722Z"
    }
   },
   "outputs": [],
   "execution_count": 23
  },
  {
   "cell_type": "code",
   "execution_count": 3,
   "outputs": [
    {
     "data": {
      "text/plain": "              label  is_ICP  points    Feature Name\n0         Up to 50K   False     0.0   Monthly Users\n1        50K - 100K    True    50.0   Monthly Users\n2       100K - 200K   False    75.0   Monthly Users\n3    More than 200K   False   100.0   Monthly Users\n4             Other   False     0.0        Industry\n5       Agriculture   False    10.0        Industry\n6    Transportation   False    20.0        Industry\n7        Healthcare   False    30.0        Industry\n8     Manufacturing   False    40.0        Industry\n9         Education    True    50.0        Industry\n10          Finance    True    50.0        Industry\n11       Technology    True    50.0        Industry\n12           Retail   False    75.0        Industry\n13          Telecom   False   100.0        Industry\n14       Up to $50K   False     0.0  Mkt Investment\n15      50k - $100K    True    50.0  Mkt Investment\n16     100k - $200K   False    62.5  Mkt Investment\n17    $200K - $300K   False    75.0  Mkt Investment\n18    $300K - $400K   False    87.5  Mkt Investment\n19  More than $400K   False   100.0  Mkt Investment",
      "text/html": "<div>\n<style scoped>\n    .dataframe tbody tr th:only-of-type {\n        vertical-align: middle;\n    }\n\n    .dataframe tbody tr th {\n        vertical-align: top;\n    }\n\n    .dataframe thead th {\n        text-align: right;\n    }\n</style>\n<table border=\"1\" class=\"dataframe\">\n  <thead>\n    <tr style=\"text-align: right;\">\n      <th></th>\n      <th>label</th>\n      <th>is_ICP</th>\n      <th>points</th>\n      <th>Feature Name</th>\n    </tr>\n  </thead>\n  <tbody>\n    <tr>\n      <th>0</th>\n      <td>Up to 50K</td>\n      <td>False</td>\n      <td>0.0</td>\n      <td>Monthly Users</td>\n    </tr>\n    <tr>\n      <th>1</th>\n      <td>50K - 100K</td>\n      <td>True</td>\n      <td>50.0</td>\n      <td>Monthly Users</td>\n    </tr>\n    <tr>\n      <th>2</th>\n      <td>100K - 200K</td>\n      <td>False</td>\n      <td>75.0</td>\n      <td>Monthly Users</td>\n    </tr>\n    <tr>\n      <th>3</th>\n      <td>More than 200K</td>\n      <td>False</td>\n      <td>100.0</td>\n      <td>Monthly Users</td>\n    </tr>\n    <tr>\n      <th>4</th>\n      <td>Other</td>\n      <td>False</td>\n      <td>0.0</td>\n      <td>Industry</td>\n    </tr>\n    <tr>\n      <th>5</th>\n      <td>Agriculture</td>\n      <td>False</td>\n      <td>10.0</td>\n      <td>Industry</td>\n    </tr>\n    <tr>\n      <th>6</th>\n      <td>Transportation</td>\n      <td>False</td>\n      <td>20.0</td>\n      <td>Industry</td>\n    </tr>\n    <tr>\n      <th>7</th>\n      <td>Healthcare</td>\n      <td>False</td>\n      <td>30.0</td>\n      <td>Industry</td>\n    </tr>\n    <tr>\n      <th>8</th>\n      <td>Manufacturing</td>\n      <td>False</td>\n      <td>40.0</td>\n      <td>Industry</td>\n    </tr>\n    <tr>\n      <th>9</th>\n      <td>Education</td>\n      <td>True</td>\n      <td>50.0</td>\n      <td>Industry</td>\n    </tr>\n    <tr>\n      <th>10</th>\n      <td>Finance</td>\n      <td>True</td>\n      <td>50.0</td>\n      <td>Industry</td>\n    </tr>\n    <tr>\n      <th>11</th>\n      <td>Technology</td>\n      <td>True</td>\n      <td>50.0</td>\n      <td>Industry</td>\n    </tr>\n    <tr>\n      <th>12</th>\n      <td>Retail</td>\n      <td>False</td>\n      <td>75.0</td>\n      <td>Industry</td>\n    </tr>\n    <tr>\n      <th>13</th>\n      <td>Telecom</td>\n      <td>False</td>\n      <td>100.0</td>\n      <td>Industry</td>\n    </tr>\n    <tr>\n      <th>14</th>\n      <td>Up to $50K</td>\n      <td>False</td>\n      <td>0.0</td>\n      <td>Mkt Investment</td>\n    </tr>\n    <tr>\n      <th>15</th>\n      <td>50k - $100K</td>\n      <td>True</td>\n      <td>50.0</td>\n      <td>Mkt Investment</td>\n    </tr>\n    <tr>\n      <th>16</th>\n      <td>100k - $200K</td>\n      <td>False</td>\n      <td>62.5</td>\n      <td>Mkt Investment</td>\n    </tr>\n    <tr>\n      <th>17</th>\n      <td>$200K - $300K</td>\n      <td>False</td>\n      <td>75.0</td>\n      <td>Mkt Investment</td>\n    </tr>\n    <tr>\n      <th>18</th>\n      <td>$300K - $400K</td>\n      <td>False</td>\n      <td>87.5</td>\n      <td>Mkt Investment</td>\n    </tr>\n    <tr>\n      <th>19</th>\n      <td>More than $400K</td>\n      <td>False</td>\n      <td>100.0</td>\n      <td>Mkt Investment</td>\n    </tr>\n  </tbody>\n</table>\n</div>"
     },
     "execution_count": 3,
     "metadata": {},
     "output_type": "execute_result"
    }
   ],
   "source": [
    "model.auto_assign_points()"
   ],
   "metadata": {
    "collapsed": false,
    "ExecuteTime": {
     "start_time": "2023-06-30T00:08:47.576836Z",
     "end_time": "2023-06-30T00:08:47.609242Z"
    }
   }
  },
  {
   "cell_type": "markdown",
   "metadata": {},
   "source": [
    "## Compute lambda values for a single lead:"
   ],
   "outputs": [],
   "execution_count": null
  },
  {
   "cell_type": "code",
   "execution_count": 4,
   "metadata": {
    "ExecuteTime": {
     "start_time": "2023-06-30T00:08:50.141458Z",
     "end_time": "2023-06-30T00:08:50.157458Z"
    }
   },
   "outputs": [
    {
     "data": {
      "text/plain": "78.57"
     },
     "execution_count": 4,
     "metadata": {},
     "output_type": "execute_result"
    }
   ],
   "source": [
    "lead = { \n",
    "        \"Monthly Users\": \"50K - 100K\",\n",
    "        \"Industry\": \"Technology\",\n",
    "        \"Mkt Investment\": \"$300K - $400K\",\n",
    "    }\n",
    "    \n",
    "lambda_value = model.compute_lambda(lead)\n",
    "lambda_value"
   ]
  },
  {
   "cell_type": "markdown",
   "source": [
    "## Read leads from a csv file and compute the lead score:"
   ],
   "metadata": {
    "collapsed": false
   },
   "outputs": []
  },
  {
   "cell_type": "code",
   "execution_count": 5,
   "outputs": [
    {
     "data": {
      "text/plain": "  Monthly Users     Industry Mkt Investment  lambda\n0    50K - 100K   Technology  $300K - $400K   78.57\n1    50K - 100K       Retail   100k - $200K   60.71\n2     Up to 50K  Agriculture    50k - $100K   38.57",
      "text/html": "<div>\n<style scoped>\n    .dataframe tbody tr th:only-of-type {\n        vertical-align: middle;\n    }\n\n    .dataframe tbody tr th {\n        vertical-align: top;\n    }\n\n    .dataframe thead th {\n        text-align: right;\n    }\n</style>\n<table border=\"1\" class=\"dataframe\">\n  <thead>\n    <tr style=\"text-align: right;\">\n      <th></th>\n      <th>Monthly Users</th>\n      <th>Industry</th>\n      <th>Mkt Investment</th>\n      <th>lambda</th>\n    </tr>\n  </thead>\n  <tbody>\n    <tr>\n      <th>0</th>\n      <td>50K - 100K</td>\n      <td>Technology</td>\n      <td>$300K - $400K</td>\n      <td>78.57</td>\n    </tr>\n    <tr>\n      <th>1</th>\n      <td>50K - 100K</td>\n      <td>Retail</td>\n      <td>100k - $200K</td>\n      <td>60.71</td>\n    </tr>\n    <tr>\n      <th>2</th>\n      <td>Up to 50K</td>\n      <td>Agriculture</td>\n      <td>50k - $100K</td>\n      <td>38.57</td>\n    </tr>\n  </tbody>\n</table>\n</div>"
     },
     "execution_count": 5,
     "metadata": {},
     "output_type": "execute_result"
    }
   ],
   "source": [
    "import pandas as pd\n",
    "\n",
    "df = pd.read_csv('leads.csv')\n",
    "df['lambda'] = df.apply(\n",
    "    lambda row: model.compute_lambda(row.to_dict()),\n",
    "    axis=1\n",
    ")\n",
    "df"
   ],
   "metadata": {
    "collapsed": false,
    "ExecuteTime": {
     "start_time": "2023-06-30T00:08:51.658876Z",
     "end_time": "2023-06-30T00:08:51.722523Z"
    }
   }
  },
  {
   "cell_type": "markdown",
   "source": [
    "## Assess qualification for each lead:"
   ],
   "metadata": {
    "collapsed": false
   }
  },
  {
   "cell_type": "code",
   "execution_count": 6,
   "outputs": [
    {
     "data": {
      "text/plain": "  Monthly Users     Industry Mkt Investment  lambda  qualified\n0    50K - 100K   Technology  $300K - $400K   78.57       True\n1    50K - 100K       Retail   100k - $200K   60.71       True\n2     Up to 50K  Agriculture    50k - $100K   38.57      False",
      "text/html": "<div>\n<style scoped>\n    .dataframe tbody tr th:only-of-type {\n        vertical-align: middle;\n    }\n\n    .dataframe tbody tr th {\n        vertical-align: top;\n    }\n\n    .dataframe thead th {\n        text-align: right;\n    }\n</style>\n<table border=\"1\" class=\"dataframe\">\n  <thead>\n    <tr style=\"text-align: right;\">\n      <th></th>\n      <th>Monthly Users</th>\n      <th>Industry</th>\n      <th>Mkt Investment</th>\n      <th>lambda</th>\n      <th>qualified</th>\n    </tr>\n  </thead>\n  <tbody>\n    <tr>\n      <th>0</th>\n      <td>50K - 100K</td>\n      <td>Technology</td>\n      <td>$300K - $400K</td>\n      <td>78.57</td>\n      <td>True</td>\n    </tr>\n    <tr>\n      <th>1</th>\n      <td>50K - 100K</td>\n      <td>Retail</td>\n      <td>100k - $200K</td>\n      <td>60.71</td>\n      <td>True</td>\n    </tr>\n    <tr>\n      <th>2</th>\n      <td>Up to 50K</td>\n      <td>Agriculture</td>\n      <td>50k - $100K</td>\n      <td>38.57</td>\n      <td>False</td>\n    </tr>\n  </tbody>\n</table>\n</div>"
     },
     "execution_count": 6,
     "metadata": {},
     "output_type": "execute_result"
    }
   ],
   "source": [
    "df['qualified'] = df.apply(\n",
    "    lambda row: model.assess_qualification(row.to_dict()),\n",
    "    axis=1\n",
    ")\n",
    "df"
   ],
   "metadata": {
    "collapsed": false,
    "ExecuteTime": {
     "start_time": "2023-06-30T00:08:55.278055Z",
     "end_time": "2023-06-30T00:08:55.293055Z"
    }
   }
  },
  {
   "cell_type": "markdown",
   "metadata": {
    "collapsed": false
   },
   "source": [
    "## Removing features"
   ],
   "outputs": []
  },
  {
   "cell_type": "code",
   "execution_count": 7,
   "metadata": {
    "collapsed": false,
    "ExecuteTime": {
     "start_time": "2023-06-30T00:08:56.762907Z",
     "end_time": "2023-06-30T00:08:56.779936Z"
    }
   },
   "outputs": [
    {
     "data": {
      "text/plain": "2"
     },
     "execution_count": 7,
     "metadata": {},
     "output_type": "execute_result"
    }
   ],
   "source": [
    "model.remove_features(['Mkt Investment'])\n",
    "len(model.features)"
   ]
  },
  {
   "cell_type": "markdown",
   "metadata": {},
   "source": [
    "### Compute new lambda after removing a feature:"
   ],
   "outputs": []
  },
  {
   "cell_type": "code",
   "execution_count": 8,
   "metadata": {
    "collapsed": false,
    "ExecuteTime": {
     "start_time": "2023-06-30T00:08:58.179381Z",
     "end_time": "2023-06-30T00:08:58.207400Z"
    }
   },
   "outputs": [
    {
     "data": {
      "text/plain": "  Monthly Users     Industry Mkt Investment  lambda  qualified  new_lambda  \\\n0    50K - 100K   Technology  $300K - $400K   78.57       True        50.0   \n1    50K - 100K       Retail   100k - $200K   60.71       True        55.0   \n2     Up to 50K  Agriculture    50k - $100K   38.57      False         2.0   \n\n   delta_percent  \n0     -36.362479  \n1      -9.405370  \n2     -94.814623  ",
      "text/html": "<div>\n<style scoped>\n    .dataframe tbody tr th:only-of-type {\n        vertical-align: middle;\n    }\n\n    .dataframe tbody tr th {\n        vertical-align: top;\n    }\n\n    .dataframe thead th {\n        text-align: right;\n    }\n</style>\n<table border=\"1\" class=\"dataframe\">\n  <thead>\n    <tr style=\"text-align: right;\">\n      <th></th>\n      <th>Monthly Users</th>\n      <th>Industry</th>\n      <th>Mkt Investment</th>\n      <th>lambda</th>\n      <th>qualified</th>\n      <th>new_lambda</th>\n      <th>delta_percent</th>\n    </tr>\n  </thead>\n  <tbody>\n    <tr>\n      <th>0</th>\n      <td>50K - 100K</td>\n      <td>Technology</td>\n      <td>$300K - $400K</td>\n      <td>78.57</td>\n      <td>True</td>\n      <td>50.0</td>\n      <td>-36.362479</td>\n    </tr>\n    <tr>\n      <th>1</th>\n      <td>50K - 100K</td>\n      <td>Retail</td>\n      <td>100k - $200K</td>\n      <td>60.71</td>\n      <td>True</td>\n      <td>55.0</td>\n      <td>-9.405370</td>\n    </tr>\n    <tr>\n      <th>2</th>\n      <td>Up to 50K</td>\n      <td>Agriculture</td>\n      <td>50k - $100K</td>\n      <td>38.57</td>\n      <td>False</td>\n      <td>2.0</td>\n      <td>-94.814623</td>\n    </tr>\n  </tbody>\n</table>\n</div>"
     },
     "execution_count": 8,
     "metadata": {},
     "output_type": "execute_result"
    }
   ],
   "source": [
    "# df with both lambdas and delta_percent\n",
    "df['new_lambda'] = df.apply(\n",
    "    lambda row: model.compute_lambda(row.to_dict()),\n",
    "    axis=1\n",
    ")\n",
    "\n",
    "df['delta_percent'] = (df['new_lambda'] / df['lambda'] - 1)*100\n",
    "\n",
    "df.head()\n"
   ]
  }
 ],
 "metadata": {
  "kernelspec": {
   "display_name": "Python 3.10.6 64-bit",
   "language": "python",
   "name": "python3"
  },
  "language_info": {
   "codemirror_mode": {
    "name": "ipython",
    "version": 3
   },
   "file_extension": ".py",
   "mimetype": "text/x-python",
   "name": "python",
   "nbconvert_exporter": "python",
   "pygments_lexer": "ipython3",
   "version": "3.10.6"
  },
  "orig_nbformat": 4,
  "vscode": {
   "interpreter": {
    "hash": "8a4170cf6dcd9674f0f7d33221fcf19531c27084af24daef8dd9554aedf69b79"
   }
  }
 },
 "nbformat": 4,
 "nbformat_minor": 2
}
